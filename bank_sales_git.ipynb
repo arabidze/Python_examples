{
 "cells": [
  {
   "cell_type": "markdown",
   "metadata": {},
   "source": [
    "# Iron Bank: sales optimisation using XGBoost\n",
    "\n",
    "**Scenario:**\n",
    "\n",
    "\"Iron Bank\" offers a term deposit product. Since 2 years, Iron Bank has invested massively in reaching out to its portfolio of existing customers (those with already a current account), and had done so through a call center campaign: each customer was called and offered the product.\n",
    "\n",
    "For doing so, they have been running a process which selects a subset of their customer\n",
    "portfolio every week, and the list is sent to the call center to be actioned.\n",
    "So far the campaign had a positive impact, but given the significant cost of the call (~8 Silver Stag) and Iron Bank's strive towards process optimization, the management has decided to investigate how to use Analytics to improve the costs of the process.\n",
    "\n",
    "Tycho Nestoris, the head of the bank, has asked whether it would be possible to reduce the number of calls by predicting the \"wasted calls\" (calls to non-converting customers).\n",
    "Specifically, he asks how many calls can be saved, given that he wants to lose as little\n",
    "business as possible.\n",
    "\n",
    "Nestoris adds the following pieces of information:\n",
    "* Each new contract will generate ~80 Silver Stags profits over its lifetime\n",
    "* No new contract would have been signed without the call (it's the only advertising\n",
    "way). Also, we can assume that if a customer didn't buy with the call, he will not buy\n",
    "at any time.\n"
   ]
  },
  {
   "cell_type": "markdown",
   "metadata": {
    "heading_collapsed": true
   },
   "source": [
    "## Import  libraries, define custom transformers and functions for the data visualisation\n",
    "\n",
    "* Import libraries to handle the data and build analysis pipelines\n",
    "* Build custom transformers and define functions for the data visualisation"
   ]
  },
  {
   "cell_type": "code",
   "execution_count": 1,
   "metadata": {
    "hidden": true
   },
   "outputs": [],
   "source": [
    "import pandas as pd\n",
    "import numpy as np\n",
    "from numpy import linalg as la\n",
    "from sklearn.pipeline import Pipeline, FeatureUnion \n",
    "from sklearn.base import TransformerMixin, BaseEstimator\n",
    "from sklearn.preprocessing import StandardScaler, LabelEncoder\n",
    "from sklearn.model_selection import train_test_split \n",
    "\n",
    "from sklearn import metrics\n",
    "from sklearn.feature_selection import SelectFromModel\n",
    "from sklearn.calibration import CalibratedClassifierCV, calibration_curve\n",
    "from xgboost import XGBClassifier\n",
    "from skopt import BayesSearchCV\n",
    "\n",
    "import itertools\n",
    "import warnings\n",
    "\n",
    "from woe_iv import *\n",
    "from my_helper_funcs import *\n",
    "\n",
    "import seaborn as sns\n",
    "import matplotlib.pyplot as plt\n",
    "import matplotlib.lines as line\n",
    "plt.rcParams.update({'font.size': 22})"
   ]
  },
  {
   "cell_type": "code",
   "execution_count": 2,
   "metadata": {
    "code_folding": [],
    "hidden": true
   },
   "outputs": [],
   "source": [
    "class num_extractor(BaseEstimator, TransformerMixin):\n",
    "    \n",
    "    def fit(self, X, y=None):\n",
    "        return self\n",
    "    \n",
    "    def transform(self, X):\n",
    "        Xnum = X[X.columns[X.dtypes != 'object']]\n",
    "        return Xnum\n",
    "\n",
    "class cat_extractor(BaseEstimator, TransformerMixin): \n",
    "    \n",
    "    def fit(self, X, y=None):\n",
    "        return self\n",
    "    \n",
    "    def transform(self, X):\n",
    "        Xtxt = X[X.columns[X.dtypes == 'object']]\n",
    "        return Xtxt\n",
    "\n",
    "class MultiColumnLabelEncoder(BaseEstimator):\n",
    "    \n",
    "    def __init__(self, columns = None):\n",
    "        self.columns = columns # list of column to encode\n",
    "    def fit(self, X, y=None):\n",
    "        return self\n",
    "    def transform(self, X):\n",
    "        \n",
    "        output = X.copy()\n",
    "        \n",
    "        if self.columns is not None:\n",
    "            for col in self.columns:\n",
    "                output[col] = LabelEncoder().fit_transform(output[col])\n",
    "        else:\n",
    "            for colname, col in output.iteritems():\n",
    "                output[colname] = LabelEncoder().fit_transform(col)\n",
    "        \n",
    "        return output\n",
    "    def fit_transform(self, X, y=None):\n",
    "        return self.fit(X, y).transform(X)"
   ]
  },
  {
   "cell_type": "code",
   "execution_count": 24,
   "metadata": {
    "hidden": true
   },
   "outputs": [],
   "source": [
    "def plot_confusion_matrix(cm, classes,\n",
    "                          normalize=False,\n",
    "                          title='Confusion matrix',\n",
    "                          cmap=plt.cm.Blues):\n",
    "    \"\"\"\n",
    "    This function prints and plots the confusion matrix.\n",
    "    Normalization can be applied by setting `normalize=True`.\n",
    "    \"\"\"\n",
    "    if normalize:\n",
    "        cm = cm.astype('float') / cm.sum(axis=1)[:, np.newaxis]\n",
    "        print(\"Normalized confusion matrix\")\n",
    "    else:\n",
    "        print('Confusion matrix, without normalization')\n",
    "\n",
    "    plt.imshow(cm, interpolation='nearest', cmap=cmap)\n",
    "    plt.title(title)\n",
    "    plt.colorbar()\n",
    "    tick_marks = np.arange(len(classes))\n",
    "    plt.xticks(tick_marks, classes, rotation=45)\n",
    "    plt.yticks(tick_marks, classes)\n",
    "\n",
    "    fmt = '.2f' if normalize else 'd'\n",
    "    thresh = cm.max() / 2.\n",
    "    for i, j in itertools.product(range(cm.shape[0]), range(cm.shape[1])):\n",
    "        plt.text(j, i, format(cm[i, j], fmt),\n",
    "                 horizontalalignment=\"center\",\n",
    "                 color=\"white\" if cm[i, j] > thresh else \"black\")\n",
    "\n",
    "    plt.ylabel('True label')\n",
    "    plt.xlabel('Predicted label')\n",
    "    plt.tight_layout()\n",
    "\n",
    "def plot_income(y_pred, y_test):\n",
    "    xs = np.linspace(0,1,100)\n",
    "   \n",
    "    print('auc score: ', metrics.roc_auc_score(y_test, y_pred))\n",
    "   \n",
    "    imp_model = []\n",
    "    imp_init  = []\n",
    "   \n",
    "    for x in xs:\n",
    "        yt = (y_pred>x)*1\n",
    "        conf = metrics.confusion_matrix(y_test,  yt)\n",
    "        imp_model.append(conf[1][1]*(80-8) - conf[0][1]*8)\n",
    "        imp_init.append((conf[1][1]+conf[1][0])*(80-8) - (conf[0][0]+conf[0][1])*8)\n",
    "   \n",
    "    print(max(imp_model), ' ', max(imp_init))\n",
    "   \n",
    "    plt.figure(figsize=(10,8))\n",
    "    plt.plot(xs, imp_model, 'r--', xs, imp_init, 'b--')\n",
    "    plt.xlabel('threshold')\n",
    "    plt.ylabel('economic importance')\n",
    "    plt.grid(True)\n",
    "    plt.show()"
   ]
  },
  {
   "cell_type": "markdown",
   "metadata": {
    "heading_collapsed": true
   },
   "source": [
    "## load data and perform exploratory analysis\n",
    "\n",
    "data description\n",
    "* 'age' - cutomer age, [int]\n",
    "* 'job' - job title, [categorical]\n",
    "* 'marital' - married/single/divorsed/unknown [categorical]\n",
    "* 'education' - basic .. university degree [categorical]\n",
    "* 'default' - yes/no/unknown [categorical]\n",
    "* 'housing' - yes/no/unknown [categorical]\n",
    "* 'loan' - yes/no/unknown [categorical]\n",
    "* 'contact' - cell/phone [categorical]\n",
    "* 'month' - 1 to 12 [categorical]\n",
    "* 'day_of_week' - 1 to 7 [categorical]\n",
    "* 'duration' - call (contact) duration (excluded from analysis, see below)\n",
    "* 'campaign' - number of contacts performed during this campaign and for this client (numeric, includes last contact)\n",
    "* 'pdays' - number of days that passed by after the client was last contacted from a previous campaign [numeric]\n",
    "* 'previous' - number of contacts performed before this campaign and for this client (numeric)\n",
    "* 'poutcome' - outcome of the previous marketing campaign [categorical]\n",
    "* 'emp.var.rate' - employment variation rate - quarterly indicator [numeric]\n",
    "* 'cons.price.idx' - consumer price index - monthly indicator [numeric]\n",
    "* 'cons.conf.idx' - consumer confidence index - monthly indicator [numeric]\n",
    "* 'euribor3m' - euribor 3 month rate - daily indicator [numeric]\n",
    "* 'nr.employed' - number of employees - quarterly indicator [numeric]\n",
    "* 'y'- target variable: 1/0 -"
   ]
  },
  {
   "cell_type": "code",
   "execution_count": 3,
   "metadata": {
    "hidden": true
   },
   "outputs": [],
   "source": [
    "df = pd.read_csv('bank-additional/bank-additional-full.csv',sep=';')\n",
    "# df = pd.read_csv('bank-additional/bank-additional.csv',sep=';')\n",
    "le = LabelEncoder()\n",
    "df['y'] = le.fit_transform(df['y'])"
   ]
  },
  {
   "cell_type": "code",
   "execution_count": 4,
   "metadata": {
    "hidden": true
   },
   "outputs": [
    {
     "data": {
      "text/plain": [
       "0    36548\n",
       "1     4640\n",
       "Name: y, dtype: int64"
      ]
     },
     "execution_count": 4,
     "metadata": {},
     "output_type": "execute_result"
    }
   ],
   "source": [
    "df.y.value_counts()"
   ]
  },
  {
   "cell_type": "markdown",
   "metadata": {
    "hidden": true
   },
   "source": [
    "First look at the data"
   ]
  },
  {
   "cell_type": "code",
   "execution_count": 5,
   "metadata": {
    "hidden": true,
    "scrolled": false
   },
   "outputs": [
    {
     "data": {
      "text/html": [
       "<div>\n",
       "<style scoped>\n",
       "    .dataframe tbody tr th:only-of-type {\n",
       "        vertical-align: middle;\n",
       "    }\n",
       "\n",
       "    .dataframe tbody tr th {\n",
       "        vertical-align: top;\n",
       "    }\n",
       "\n",
       "    .dataframe thead th {\n",
       "        text-align: right;\n",
       "    }\n",
       "</style>\n",
       "<table border=\"1\" class=\"dataframe\">\n",
       "  <thead>\n",
       "    <tr style=\"text-align: right;\">\n",
       "      <th></th>\n",
       "      <th>age</th>\n",
       "      <th>job</th>\n",
       "      <th>marital</th>\n",
       "      <th>education</th>\n",
       "      <th>default</th>\n",
       "      <th>housing</th>\n",
       "      <th>loan</th>\n",
       "      <th>contact</th>\n",
       "      <th>month</th>\n",
       "      <th>day_of_week</th>\n",
       "      <th>...</th>\n",
       "      <th>campaign</th>\n",
       "      <th>pdays</th>\n",
       "      <th>previous</th>\n",
       "      <th>poutcome</th>\n",
       "      <th>emp.var.rate</th>\n",
       "      <th>cons.price.idx</th>\n",
       "      <th>cons.conf.idx</th>\n",
       "      <th>euribor3m</th>\n",
       "      <th>nr.employed</th>\n",
       "      <th>y</th>\n",
       "    </tr>\n",
       "  </thead>\n",
       "  <tbody>\n",
       "    <tr>\n",
       "      <th>0</th>\n",
       "      <td>56</td>\n",
       "      <td>housemaid</td>\n",
       "      <td>married</td>\n",
       "      <td>basic.4y</td>\n",
       "      <td>no</td>\n",
       "      <td>no</td>\n",
       "      <td>no</td>\n",
       "      <td>telephone</td>\n",
       "      <td>may</td>\n",
       "      <td>mon</td>\n",
       "      <td>...</td>\n",
       "      <td>1</td>\n",
       "      <td>999</td>\n",
       "      <td>0</td>\n",
       "      <td>nonexistent</td>\n",
       "      <td>1.1</td>\n",
       "      <td>93.994</td>\n",
       "      <td>-36.4</td>\n",
       "      <td>4.857</td>\n",
       "      <td>5191.0</td>\n",
       "      <td>0</td>\n",
       "    </tr>\n",
       "    <tr>\n",
       "      <th>1</th>\n",
       "      <td>57</td>\n",
       "      <td>services</td>\n",
       "      <td>married</td>\n",
       "      <td>high.school</td>\n",
       "      <td>unknown</td>\n",
       "      <td>no</td>\n",
       "      <td>no</td>\n",
       "      <td>telephone</td>\n",
       "      <td>may</td>\n",
       "      <td>mon</td>\n",
       "      <td>...</td>\n",
       "      <td>1</td>\n",
       "      <td>999</td>\n",
       "      <td>0</td>\n",
       "      <td>nonexistent</td>\n",
       "      <td>1.1</td>\n",
       "      <td>93.994</td>\n",
       "      <td>-36.4</td>\n",
       "      <td>4.857</td>\n",
       "      <td>5191.0</td>\n",
       "      <td>0</td>\n",
       "    </tr>\n",
       "    <tr>\n",
       "      <th>2</th>\n",
       "      <td>37</td>\n",
       "      <td>services</td>\n",
       "      <td>married</td>\n",
       "      <td>high.school</td>\n",
       "      <td>no</td>\n",
       "      <td>yes</td>\n",
       "      <td>no</td>\n",
       "      <td>telephone</td>\n",
       "      <td>may</td>\n",
       "      <td>mon</td>\n",
       "      <td>...</td>\n",
       "      <td>1</td>\n",
       "      <td>999</td>\n",
       "      <td>0</td>\n",
       "      <td>nonexistent</td>\n",
       "      <td>1.1</td>\n",
       "      <td>93.994</td>\n",
       "      <td>-36.4</td>\n",
       "      <td>4.857</td>\n",
       "      <td>5191.0</td>\n",
       "      <td>0</td>\n",
       "    </tr>\n",
       "    <tr>\n",
       "      <th>3</th>\n",
       "      <td>40</td>\n",
       "      <td>admin.</td>\n",
       "      <td>married</td>\n",
       "      <td>basic.6y</td>\n",
       "      <td>no</td>\n",
       "      <td>no</td>\n",
       "      <td>no</td>\n",
       "      <td>telephone</td>\n",
       "      <td>may</td>\n",
       "      <td>mon</td>\n",
       "      <td>...</td>\n",
       "      <td>1</td>\n",
       "      <td>999</td>\n",
       "      <td>0</td>\n",
       "      <td>nonexistent</td>\n",
       "      <td>1.1</td>\n",
       "      <td>93.994</td>\n",
       "      <td>-36.4</td>\n",
       "      <td>4.857</td>\n",
       "      <td>5191.0</td>\n",
       "      <td>0</td>\n",
       "    </tr>\n",
       "    <tr>\n",
       "      <th>4</th>\n",
       "      <td>56</td>\n",
       "      <td>services</td>\n",
       "      <td>married</td>\n",
       "      <td>high.school</td>\n",
       "      <td>no</td>\n",
       "      <td>no</td>\n",
       "      <td>yes</td>\n",
       "      <td>telephone</td>\n",
       "      <td>may</td>\n",
       "      <td>mon</td>\n",
       "      <td>...</td>\n",
       "      <td>1</td>\n",
       "      <td>999</td>\n",
       "      <td>0</td>\n",
       "      <td>nonexistent</td>\n",
       "      <td>1.1</td>\n",
       "      <td>93.994</td>\n",
       "      <td>-36.4</td>\n",
       "      <td>4.857</td>\n",
       "      <td>5191.0</td>\n",
       "      <td>0</td>\n",
       "    </tr>\n",
       "  </tbody>\n",
       "</table>\n",
       "<p>5 rows × 21 columns</p>\n",
       "</div>"
      ],
      "text/plain": [
       "   age        job  marital    education  default housing loan    contact  \\\n",
       "0   56  housemaid  married     basic.4y       no      no   no  telephone   \n",
       "1   57   services  married  high.school  unknown      no   no  telephone   \n",
       "2   37   services  married  high.school       no     yes   no  telephone   \n",
       "3   40     admin.  married     basic.6y       no      no   no  telephone   \n",
       "4   56   services  married  high.school       no      no  yes  telephone   \n",
       "\n",
       "  month day_of_week ...  campaign  pdays  previous     poutcome emp.var.rate  \\\n",
       "0   may         mon ...         1    999         0  nonexistent          1.1   \n",
       "1   may         mon ...         1    999         0  nonexistent          1.1   \n",
       "2   may         mon ...         1    999         0  nonexistent          1.1   \n",
       "3   may         mon ...         1    999         0  nonexistent          1.1   \n",
       "4   may         mon ...         1    999         0  nonexistent          1.1   \n",
       "\n",
       "   cons.price.idx  cons.conf.idx  euribor3m  nr.employed  y  \n",
       "0          93.994          -36.4      4.857       5191.0  0  \n",
       "1          93.994          -36.4      4.857       5191.0  0  \n",
       "2          93.994          -36.4      4.857       5191.0  0  \n",
       "3          93.994          -36.4      4.857       5191.0  0  \n",
       "4          93.994          -36.4      4.857       5191.0  0  \n",
       "\n",
       "[5 rows x 21 columns]"
      ]
     },
     "execution_count": 5,
     "metadata": {},
     "output_type": "execute_result"
    }
   ],
   "source": [
    "df.head()"
   ]
  },
  {
   "cell_type": "markdown",
   "metadata": {
    "hidden": true
   },
   "source": [
    "### Some the data visualisation"
   ]
  },
  {
   "cell_type": "markdown",
   "metadata": {
    "hidden": true
   },
   "source": [
    "Data visualisation via histograms/time-trends helps to understand the data, identify outliers/garbage which needs to be removed. Analysis should target to catch the tendencies, not to identify particular outliers.\n",
    "\n",
    "Histogram below tends to represent comprehensive information about feature: \n",
    "* Light blue - total events \n",
    "* Dark blue - number of successful events \n",
    "* Red circles - percentage of successful events and its confidence interval, per bin\n",
    "\n",
    "Assuming, that the number of events in histogram bins are following Poisson distribution, the error (1 sigma confidence) per bin would be $\\sqrt{n}$. Now, for the ratio of two histogram, propagated Poisson error can be calculated as:\n",
    "\n",
    "<h3 align=\"center\">$\\Delta (\\frac{n_1}{n_2}) = \\frac{n_2 \\sqrt{ n_1} + n_1 \\sqrt{n_2}}{{n_2}^2} $</h3> \n",
    "\n",
    "\n"
   ]
  },
  {
   "cell_type": "code",
   "execution_count": 6,
   "metadata": {
    "code_folding": [],
    "hidden": true
   },
   "outputs": [
    {
     "data": {
      "image/png": "[encoded data removed]",
      "text/plain": [
       "<Figure size 1440x720 with 2 Axes>"
      ]
     },
     "metadata": {},
     "output_type": "display_data"
    }
   ],
   "source": [
    "hist_maker(df['age'], df[df.y==1]['age'], 'age',  \n",
    "           [18, 25, 30, 35, 40, 45, 55, 65, 75, 90])"
   ]
  },
  {
   "cell_type": "code",
   "execution_count": null,
   "metadata": {
    "hidden": true
   },
   "outputs": [],
   "source": []
  },
  {
   "cell_type": "markdown",
   "metadata": {
    "heading_collapsed": true,
    "hidden": true
   },
   "source": [
    "### High cardinality of the categorical features"
   ]
  },
  {
   "cell_type": "markdown",
   "metadata": {
    "hidden": true
   },
   "source": [
    "This can become problem for any analysis using categorical features. Should try to reduce it based on domain knowledge and merge some basic education levels. As we do it for 'education', merging its basic levels\n",
    "\n",
    "Also, there is only one entry for 'illiterate', corresponding row can be dropped.\n"
   ]
  },
  {
   "cell_type": "code",
   "execution_count": 7,
   "metadata": {
    "hidden": true,
    "scrolled": false
   },
   "outputs": [
    {
     "data": {
      "text/plain": [
       "university.degree      12168\n",
       "high.school             9515\n",
       "basic.9y                6045\n",
       "professional.course     5243\n",
       "basic.4y                4176\n",
       "basic.6y                2292\n",
       "unknown                 1731\n",
       "illiterate                18\n",
       "Name: education, dtype: int64"
      ]
     },
     "execution_count": 7,
     "metadata": {},
     "output_type": "execute_result"
    }
   ],
   "source": [
    "df.education.value_counts()"
   ]
  },
  {
   "cell_type": "code",
   "execution_count": 8,
   "metadata": {
    "hidden": true
   },
   "outputs": [],
   "source": [
    "df['education'] = np.where(df['education'] =='basic.9y', 'basic', df['education'])\n",
    "df['education'] = np.where(df['education'] =='basic.6y', 'basic', df['education'])\n",
    "df['education'] = np.where(df['education'] =='basic.4y', 'basic', df['education'])\n",
    "df = df.drop(df[df.education == 'illiterate'].index)"
   ]
  },
  {
   "cell_type": "code",
   "execution_count": 9,
   "metadata": {
    "hidden": true
   },
   "outputs": [
    {
     "data": {
      "text/plain": [
       "Index(['age', 'job', 'marital', 'education', 'default', 'housing', 'loan',\n",
       "       'contact', 'month', 'day_of_week', 'duration', 'campaign', 'pdays',\n",
       "       'previous', 'poutcome', 'emp.var.rate', 'cons.price.idx',\n",
       "       'cons.conf.idx', 'euribor3m', 'nr.employed', 'y'],\n",
       "      dtype='object')"
      ]
     },
     "execution_count": 9,
     "metadata": {},
     "output_type": "execute_result"
    }
   ],
   "source": [
    "df.columns"
   ]
  },
  {
   "cell_type": "markdown",
   "metadata": {
    "heading_collapsed": true,
    "hidden": true
   },
   "source": [
    "### Variable importance: Information Value "
   ]
  },
  {
   "cell_type": "markdown",
   "metadata": {
    "hidden": true
   },
   "source": [
    "Lets estimate importance of the features using Information Value (IV), that can help us to quantify predictive power of the features to explain the target variable. In particular, its a common practice to categorize features using IV as following:\n",
    "* Weak predictive Power [0.02 to 0.1]\n",
    "* Medium predictive Power [0.1 to 0.3]\n",
    "* Strong predictive Power [0.3 to 0.5]\n",
    "* Suspicious Predictive Power [0.5 to Inf.]\n",
    "\n",
    "N.B. using external code for IV and WoE calculations (file: filename.py)\n",
    "\n",
    "Features categorisation via Information Value: \n",
    "* Grey: weak predictors\n",
    "* Yellow: medium predictive power\n",
    "* Green: strong predictive power\n",
    "* Red area: ‘Too good to be true’ - duration and poutcome.\n"
   ]
  },
  {
   "cell_type": "code",
   "execution_count": 10,
   "metadata": {
    "hidden": true
   },
   "outputs": [
    {
     "name": "stderr",
     "output_type": "stream",
     "text": [
      "/Users/arabidze/Documents/JUPYTER/Allianz_tosend/Allianz/woe_iv.py:94: RuntimeWarning: divide by zero encountered in log\n",
      "  d3[\"WOE\"] = np.log(d3.DIST_EVENT/d3.DIST_NON_EVENT)\n",
      "/Users/arabidze/Documents/JUPYTER/Allianz_tosend/Allianz/woe_iv.py:95: RuntimeWarning: divide by zero encountered in log\n",
      "  d3[\"IV\"] = (d3.DIST_EVENT-d3.DIST_NON_EVENT)*np.log(d3.DIST_EVENT/d3.DIST_NON_EVENT)\n"
     ]
    }
   ],
   "source": [
    "from woe_iv import *\n",
    "fiv, iv = data_vars(df, df.y)"
   ]
  },
  {
   "cell_type": "code",
   "execution_count": 11,
   "metadata": {
    "hidden": true,
    "scrolled": false
   },
   "outputs": [
    {
     "data": {
      "image/png": "[encoded data removed]",
      "text/plain": [
       "<Figure size 1440x720 with 1 Axes>"
      ]
     },
     "metadata": {},
     "output_type": "display_data"
    }
   ],
   "source": [
    "plot_iv(iv.sort_values('IV', ascending=False), name='IV')"
   ]
  },
  {
   "cell_type": "markdown",
   "metadata": {
    "hidden": true,
    "scrolled": false
   },
   "source": [
    "Information Value can be useful to identify so called information leakage, or the forward looking bias in your analysis. For example, it iss a *forward looking bias*, when feature reflects conditions from times after the event occurred and hense may have much stronger correlation with the outcome event.\n",
    "\n",
    "Of course, we can not know the phone call duration prior to the call, at the moment when we need to make prediction, hence can not be used to predict the ‘unknown’. Intuitively, longer the call, higher are chances that client agreed and the contract agreement happened.\n",
    "\n",
    "Poutcome (outcome of the previous marketing campaign [categorical]), as well shows high IV and indicates strong correlation between outcomes of the previous and current campaigns, which might be naturally expected if there is a strong like/dislike of the product.\n",
    "\n",
    "Indeed, from the histogram below, we can clearly see that the positive rate is the highest $\\sim65%$ in the bin corresponding \"previous success\", while othe bins are less than $\\sim20%$. This could indicate, that the campaign is the best successful with the previous or existing customers (no churn, i.e. strong product attachement), but fails to attract new customers. \n",
    "\n",
    "To exclude or include 'Poutcome' feature is more for the judgment call or \"up to the bussiness to decide\". With this fearure included, we can not conclude about model performance with the new customers. This is strong limitation, as for the model as to it power to generalise.\n",
    "\n",
    "With this said, next iteration: try to build different models for customers who already purchased or not the banks product."
   ]
  },
  {
   "cell_type": "code",
   "execution_count": 12,
   "metadata": {
    "hidden": true
   },
   "outputs": [
    {
     "data": {
      "image/png": "[encoded data removed]",
      "text/plain": [
       "<Figure size 1440x720 with 2 Axes>"
      ]
     },
     "metadata": {},
     "output_type": "display_data"
    }
   ],
   "source": [
    "df['poutcome_tmp'] = le.fit_transform(df['poutcome'])\n",
    "hist_maker(df['poutcome_tmp'], df[df.y==1]['poutcome_tmp'], 'poutcome',  \n",
    "           [0,1,2,3])\n",
    "df.drop('poutcome_tmp', axis=1, inplace=True)"
   ]
  },
  {
   "cell_type": "code",
   "execution_count": null,
   "metadata": {
    "hidden": true
   },
   "outputs": [],
   "source": []
  },
  {
   "cell_type": "markdown",
   "metadata": {
    "hidden": true
   },
   "source": [
    "** Drop 'duration': **"
   ]
  },
  {
   "cell_type": "code",
   "execution_count": 13,
   "metadata": {
    "hidden": true
   },
   "outputs": [],
   "source": [
    "df.drop('duration', axis=1, inplace=True)\n",
    "# df.drop('poutcome', axis=1, inplace=True)"
   ]
  },
  {
   "cell_type": "code",
   "execution_count": null,
   "metadata": {
    "hidden": true
   },
   "outputs": [],
   "source": [
    "# fiv[['VAR_NAME', 'WOE', 'IV']]"
   ]
  },
  {
   "cell_type": "markdown",
   "metadata": {
    "heading_collapsed": true,
    "hidden": true
   },
   "source": [
    "### ** Investigating feature-to-feature correlation **"
   ]
  },
  {
   "cell_type": "markdown",
   "metadata": {
    "hidden": true
   },
   "source": [
    "\n",
    "Table below describes Pearson correlation between all the features. \n",
    "High correlation amongst the features, i.e. feature multicollinearity can introduce undesirable complications or even instabilities in some modelling. \n",
    "\n",
    "<u> Tree based methods </u>: more robust to the multicollinearity problem, as long as it concerns the prediction correctness. However, it can introduce ambiguity in feature selection and hence to the feature importance estimation. Collinear features can be selected equally likely at each split and their individual power (i.e. number of times the feature was used to split) will vanish. \n",
    "\n",
    "<u> Ordinary Least Squares regression (OLS) </u>: less robust to the multicollinearity problem. If features are linearly dependent (some columns of X), then the rank of matrix X is less than p+1 (where p is number of the features). So, the matrix X is singular and inverse of $X^T X$ matrix doesn’t exists, which is required in the closed form equation:\n",
    "\n",
    "<h3 align=\"center\">$\\beta = (X^T X)^{-1}X^TY$</h3> \n",
    "\n",
    "Even if we could overcome the singularity (via … ), still the estimates  expected to be unstable and can be estimated using Variance Infiltration Factor. It measures how much variance of feature $x_i$ can be explained by the other features.\n",
    "\n",
    "Highly unstable estimates means that if there is a small change in X, produces very large changes in the solution: Stability of an estimate can be measured using condition number:\n",
    "\n",
    "<h3 align=\"center\">$cond. number = \\frac{\\mu_{max}}{\\mu_{min}} $</h3> \n",
    "\n",
    "We can compare the matrix stabilities with included and excluded highly correlated (more than 65%) features. Difference is significant:\n",
    "* Cond. Number (w/ correlated features): **10.2**\n",
    "* Cond. Number (w/o correlated features): **1.6**\n"
   ]
  },
  {
   "cell_type": "code",
   "execution_count": null,
   "metadata": {
    "hidden": true
   },
   "outputs": [],
   "source": []
  },
  {
   "cell_type": "code",
   "execution_count": 14,
   "metadata": {
    "hidden": true
   },
   "outputs": [
    {
     "data": {
      "text/html": [
       "<style  type=\"text/css\" >\n",
       "    #T_1696aa2c_4f24_11e9_b419_9cf387a47032row0_col0 {\n",
       "            background-color:  #023858;\n",
       "        }    #T_1696aa2c_4f24_11e9_b419_9cf387a47032row0_col1 {\n",
       "            background-color:  #fff7fb;\n",
       "        }    #T_1696aa2c_4f24_11e9_b419_9cf387a47032row0_col2 {\n",
       "            background-color:  #fff7fb;\n",
       "        }    #T_1696aa2c_4f24_11e9_b419_9cf387a47032row0_col3 {\n",
       "            background-color:  #fff7fb;\n",
       "        }    #T_1696aa2c_4f24_11e9_b419_9cf387a47032row0_col4 {\n",
       "            background-color:  #fff7fb;\n",
       "        }    #T_1696aa2c_4f24_11e9_b419_9cf387a47032row0_col5 {\n",
       "            background-color:  #fff7fb;\n",
       "        }    #T_1696aa2c_4f24_11e9_b419_9cf387a47032row0_col6 {\n",
       "            background-color:  #ede7f2;\n",
       "        }    #T_1696aa2c_4f24_11e9_b419_9cf387a47032row0_col7 {\n",
       "            background-color:  #fff7fb;\n",
       "        }    #T_1696aa2c_4f24_11e9_b419_9cf387a47032row0_col8 {\n",
       "            background-color:  #fff7fb;\n",
       "        }    #T_1696aa2c_4f24_11e9_b419_9cf387a47032row1_col0 {\n",
       "            background-color:  #fff7fb;\n",
       "        }    #T_1696aa2c_4f24_11e9_b419_9cf387a47032row1_col1 {\n",
       "            background-color:  #023858;\n",
       "        }    #T_1696aa2c_4f24_11e9_b419_9cf387a47032row1_col2 {\n",
       "            background-color:  #fcf4fa;\n",
       "        }    #T_1696aa2c_4f24_11e9_b419_9cf387a47032row1_col3 {\n",
       "            background-color:  #f6eff7;\n",
       "        }    #T_1696aa2c_4f24_11e9_b419_9cf387a47032row1_col4 {\n",
       "            background-color:  #e7e3f0;\n",
       "        }    #T_1696aa2c_4f24_11e9_b419_9cf387a47032row1_col5 {\n",
       "            background-color:  #ebe6f2;\n",
       "        }    #T_1696aa2c_4f24_11e9_b419_9cf387a47032row1_col6 {\n",
       "            background-color:  #fff7fb;\n",
       "        }    #T_1696aa2c_4f24_11e9_b419_9cf387a47032row1_col7 {\n",
       "            background-color:  #ebe6f2;\n",
       "        }    #T_1696aa2c_4f24_11e9_b419_9cf387a47032row1_col8 {\n",
       "            background-color:  #ede7f2;\n",
       "        }    #T_1696aa2c_4f24_11e9_b419_9cf387a47032row2_col0 {\n",
       "            background-color:  #fbf3f9;\n",
       "        }    #T_1696aa2c_4f24_11e9_b419_9cf387a47032row2_col1 {\n",
       "            background-color:  #f8f1f8;\n",
       "        }    #T_1696aa2c_4f24_11e9_b419_9cf387a47032row2_col2 {\n",
       "            background-color:  #023858;\n",
       "        }    #T_1696aa2c_4f24_11e9_b419_9cf387a47032row2_col3 {\n",
       "            background-color:  #4c99c5;\n",
       "        }    #T_1696aa2c_4f24_11e9_b419_9cf387a47032row2_col4 {\n",
       "            background-color:  #c9cee4;\n",
       "        }    #T_1696aa2c_4f24_11e9_b419_9cf387a47032row2_col5 {\n",
       "            background-color:  #f3edf5;\n",
       "        }    #T_1696aa2c_4f24_11e9_b419_9cf387a47032row2_col6 {\n",
       "            background-color:  #f3edf5;\n",
       "        }    #T_1696aa2c_4f24_11e9_b419_9cf387a47032row2_col7 {\n",
       "            background-color:  #c2cbe2;\n",
       "        }    #T_1696aa2c_4f24_11e9_b419_9cf387a47032row2_col8 {\n",
       "            background-color:  #acc0dd;\n",
       "        }    #T_1696aa2c_4f24_11e9_b419_9cf387a47032row3_col0 {\n",
       "            background-color:  #fcf4fa;\n",
       "        }    #T_1696aa2c_4f24_11e9_b419_9cf387a47032row3_col1 {\n",
       "            background-color:  #f3edf5;\n",
       "        }    #T_1696aa2c_4f24_11e9_b419_9cf387a47032row3_col2 {\n",
       "            background-color:  #4e9ac6;\n",
       "        }    #T_1696aa2c_4f24_11e9_b419_9cf387a47032row3_col3 {\n",
       "            background-color:  #023858;\n",
       "        }    #T_1696aa2c_4f24_11e9_b419_9cf387a47032row3_col4 {\n",
       "            background-color:  #94b6d7;\n",
       "        }    #T_1696aa2c_4f24_11e9_b419_9cf387a47032row3_col5 {\n",
       "            background-color:  #dbdaeb;\n",
       "        }    #T_1696aa2c_4f24_11e9_b419_9cf387a47032row3_col6 {\n",
       "            background-color:  #f9f2f8;\n",
       "        }    #T_1696aa2c_4f24_11e9_b419_9cf387a47032row3_col7 {\n",
       "            background-color:  #8bb2d4;\n",
       "        }    #T_1696aa2c_4f24_11e9_b419_9cf387a47032row3_col8 {\n",
       "            background-color:  #78abd0;\n",
       "        }    #T_1696aa2c_4f24_11e9_b419_9cf387a47032row4_col0 {\n",
       "            background-color:  #fff7fb;\n",
       "        }    #T_1696aa2c_4f24_11e9_b419_9cf387a47032row4_col1 {\n",
       "            background-color:  #e7e3f0;\n",
       "        }    #T_1696aa2c_4f24_11e9_b419_9cf387a47032row4_col2 {\n",
       "            background-color:  #d1d2e6;\n",
       "        }    #T_1696aa2c_4f24_11e9_b419_9cf387a47032row4_col3 {\n",
       "            background-color:  #99b8d8;\n",
       "        }    #T_1696aa2c_4f24_11e9_b419_9cf387a47032row4_col4 {\n",
       "            background-color:  #023858;\n",
       "        }    #T_1696aa2c_4f24_11e9_b419_9cf387a47032row4_col5 {\n",
       "            background-color:  #056ba7;\n",
       "        }    #T_1696aa2c_4f24_11e9_b419_9cf387a47032row4_col6 {\n",
       "            background-color:  #dddbec;\n",
       "        }    #T_1696aa2c_4f24_11e9_b419_9cf387a47032row4_col7 {\n",
       "            background-color:  #023f64;\n",
       "        }    #T_1696aa2c_4f24_11e9_b419_9cf387a47032row4_col8 {\n",
       "            background-color:  #03517e;\n",
       "        }    #T_1696aa2c_4f24_11e9_b419_9cf387a47032row5_col0 {\n",
       "            background-color:  #fff7fb;\n",
       "        }    #T_1696aa2c_4f24_11e9_b419_9cf387a47032row5_col1 {\n",
       "            background-color:  #ebe6f2;\n",
       "        }    #T_1696aa2c_4f24_11e9_b419_9cf387a47032row5_col2 {\n",
       "            background-color:  #f7f0f7;\n",
       "        }    #T_1696aa2c_4f24_11e9_b419_9cf387a47032row5_col3 {\n",
       "            background-color:  #dfddec;\n",
       "        }    #T_1696aa2c_4f24_11e9_b419_9cf387a47032row5_col4 {\n",
       "            background-color:  #056ba7;\n",
       "        }    #T_1696aa2c_4f24_11e9_b419_9cf387a47032row5_col5 {\n",
       "            background-color:  #023858;\n",
       "        }    #T_1696aa2c_4f24_11e9_b419_9cf387a47032row5_col6 {\n",
       "            background-color:  #f8f1f8;\n",
       "        }    #T_1696aa2c_4f24_11e9_b419_9cf387a47032row5_col7 {\n",
       "            background-color:  #1e80b8;\n",
       "        }    #T_1696aa2c_4f24_11e9_b419_9cf387a47032row5_col8 {\n",
       "            background-color:  #6fa7ce;\n",
       "        }    #T_1696aa2c_4f24_11e9_b419_9cf387a47032row6_col0 {\n",
       "            background-color:  #ebe6f2;\n",
       "        }    #T_1696aa2c_4f24_11e9_b419_9cf387a47032row6_col1 {\n",
       "            background-color:  #fef6fa;\n",
       "        }    #T_1696aa2c_4f24_11e9_b419_9cf387a47032row6_col2 {\n",
       "            background-color:  #f6eff7;\n",
       "        }    #T_1696aa2c_4f24_11e9_b419_9cf387a47032row6_col3 {\n",
       "            background-color:  #fbf3f9;\n",
       "        }    #T_1696aa2c_4f24_11e9_b419_9cf387a47032row6_col4 {\n",
       "            background-color:  #dbdaeb;\n",
       "        }    #T_1696aa2c_4f24_11e9_b419_9cf387a47032row6_col5 {\n",
       "            background-color:  #f6eff7;\n",
       "        }    #T_1696aa2c_4f24_11e9_b419_9cf387a47032row6_col6 {\n",
       "            background-color:  #023858;\n",
       "        }    #T_1696aa2c_4f24_11e9_b419_9cf387a47032row6_col7 {\n",
       "            background-color:  #c9cee4;\n",
       "        }    #T_1696aa2c_4f24_11e9_b419_9cf387a47032row6_col8 {\n",
       "            background-color:  #f3edf5;\n",
       "        }    #T_1696aa2c_4f24_11e9_b419_9cf387a47032row7_col0 {\n",
       "            background-color:  #fef6fa;\n",
       "        }    #T_1696aa2c_4f24_11e9_b419_9cf387a47032row7_col1 {\n",
       "            background-color:  #e9e5f1;\n",
       "        }    #T_1696aa2c_4f24_11e9_b419_9cf387a47032row7_col2 {\n",
       "            background-color:  #c6cce3;\n",
       "        }    #T_1696aa2c_4f24_11e9_b419_9cf387a47032row7_col3 {\n",
       "            background-color:  #8cb3d5;\n",
       "        }    #T_1696aa2c_4f24_11e9_b419_9cf387a47032row7_col4 {\n",
       "            background-color:  #023f64;\n",
       "        }    #T_1696aa2c_4f24_11e9_b419_9cf387a47032row7_col5 {\n",
       "            background-color:  #1c7fb8;\n",
       "        }    #T_1696aa2c_4f24_11e9_b419_9cf387a47032row7_col6 {\n",
       "            background-color:  #c9cee4;\n",
       "        }    #T_1696aa2c_4f24_11e9_b419_9cf387a47032row7_col7 {\n",
       "            background-color:  #023858;\n",
       "        }    #T_1696aa2c_4f24_11e9_b419_9cf387a47032row7_col8 {\n",
       "            background-color:  #03466e;\n",
       "        }    #T_1696aa2c_4f24_11e9_b419_9cf387a47032row8_col0 {\n",
       "            background-color:  #fcf4fa;\n",
       "        }    #T_1696aa2c_4f24_11e9_b419_9cf387a47032row8_col1 {\n",
       "            background-color:  #e9e5f1;\n",
       "        }    #T_1696aa2c_4f24_11e9_b419_9cf387a47032row8_col2 {\n",
       "            background-color:  #afc1dd;\n",
       "        }    #T_1696aa2c_4f24_11e9_b419_9cf387a47032row8_col3 {\n",
       "            background-color:  #78abd0;\n",
       "        }    #T_1696aa2c_4f24_11e9_b419_9cf387a47032row8_col4 {\n",
       "            background-color:  #03517e;\n",
       "        }    #T_1696aa2c_4f24_11e9_b419_9cf387a47032row8_col5 {\n",
       "            background-color:  #69a5cc;\n",
       "        }    #T_1696aa2c_4f24_11e9_b419_9cf387a47032row8_col6 {\n",
       "            background-color:  #f1ebf5;\n",
       "        }    #T_1696aa2c_4f24_11e9_b419_9cf387a47032row8_col7 {\n",
       "            background-color:  #03456c;\n",
       "        }    #T_1696aa2c_4f24_11e9_b419_9cf387a47032row8_col8 {\n",
       "            background-color:  #023858;\n",
       "        }</style>  \n",
       "<table id=\"T_1696aa2c_4f24_11e9_b419_9cf387a47032\" > \n",
       "<thead>    <tr> \n",
       "        <th class=\"blank level0\" ></th> \n",
       "        <th class=\"col_heading level0 col0\" >age</th> \n",
       "        <th class=\"col_heading level0 col1\" >campaign</th> \n",
       "        <th class=\"col_heading level0 col2\" >pdays</th> \n",
       "        <th class=\"col_heading level0 col3\" >previous</th> \n",
       "        <th class=\"col_heading level0 col4\" >emp.var.rate</th> \n",
       "        <th class=\"col_heading level0 col5\" >cons.price.idx</th> \n",
       "        <th class=\"col_heading level0 col6\" >cons.conf.idx</th> \n",
       "        <th class=\"col_heading level0 col7\" >euribor3m</th> \n",
       "        <th class=\"col_heading level0 col8\" >nr.employed</th> \n",
       "    </tr></thead> \n",
       "<tbody>    <tr> \n",
       "        <th id=\"T_1696aa2c_4f24_11e9_b419_9cf387a47032level0_row0\" class=\"row_heading level0 row0\" >age</th> \n",
       "        <td id=\"T_1696aa2c_4f24_11e9_b419_9cf387a47032row0_col0\" class=\"data row0 col0\" >1</td> \n",
       "        <td id=\"T_1696aa2c_4f24_11e9_b419_9cf387a47032row0_col1\" class=\"data row0 col1\" >0</td> \n",
       "        <td id=\"T_1696aa2c_4f24_11e9_b419_9cf387a47032row0_col2\" class=\"data row0 col2\" >0.03</td> \n",
       "        <td id=\"T_1696aa2c_4f24_11e9_b419_9cf387a47032row0_col3\" class=\"data row0 col3\" >0.02</td> \n",
       "        <td id=\"T_1696aa2c_4f24_11e9_b419_9cf387a47032row0_col4\" class=\"data row0 col4\" >0</td> \n",
       "        <td id=\"T_1696aa2c_4f24_11e9_b419_9cf387a47032row0_col5\" class=\"data row0 col5\" >0</td> \n",
       "        <td id=\"T_1696aa2c_4f24_11e9_b419_9cf387a47032row0_col6\" class=\"data row0 col6\" >0.13</td> \n",
       "        <td id=\"T_1696aa2c_4f24_11e9_b419_9cf387a47032row0_col7\" class=\"data row0 col7\" >0.01</td> \n",
       "        <td id=\"T_1696aa2c_4f24_11e9_b419_9cf387a47032row0_col8\" class=\"data row0 col8\" >0.02</td> \n",
       "    </tr>    <tr> \n",
       "        <th id=\"T_1696aa2c_4f24_11e9_b419_9cf387a47032level0_row1\" class=\"row_heading level0 row1\" >campaign</th> \n",
       "        <td id=\"T_1696aa2c_4f24_11e9_b419_9cf387a47032row1_col0\" class=\"data row1 col0\" >0</td> \n",
       "        <td id=\"T_1696aa2c_4f24_11e9_b419_9cf387a47032row1_col1\" class=\"data row1 col1\" >1</td> \n",
       "        <td id=\"T_1696aa2c_4f24_11e9_b419_9cf387a47032row1_col2\" class=\"data row1 col2\" >0.05</td> \n",
       "        <td id=\"T_1696aa2c_4f24_11e9_b419_9cf387a47032row1_col3\" class=\"data row1 col3\" >0.08</td> \n",
       "        <td id=\"T_1696aa2c_4f24_11e9_b419_9cf387a47032row1_col4\" class=\"data row1 col4\" >0.15</td> \n",
       "        <td id=\"T_1696aa2c_4f24_11e9_b419_9cf387a47032row1_col5\" class=\"data row1 col5\" >0.13</td> \n",
       "        <td id=\"T_1696aa2c_4f24_11e9_b419_9cf387a47032row1_col6\" class=\"data row1 col6\" >0.01</td> \n",
       "        <td id=\"T_1696aa2c_4f24_11e9_b419_9cf387a47032row1_col7\" class=\"data row1 col7\" >0.14</td> \n",
       "        <td id=\"T_1696aa2c_4f24_11e9_b419_9cf387a47032row1_col8\" class=\"data row1 col8\" >0.14</td> \n",
       "    </tr>    <tr> \n",
       "        <th id=\"T_1696aa2c_4f24_11e9_b419_9cf387a47032level0_row2\" class=\"row_heading level0 row2\" >pdays</th> \n",
       "        <td id=\"T_1696aa2c_4f24_11e9_b419_9cf387a47032row2_col0\" class=\"data row2 col0\" >0.03</td> \n",
       "        <td id=\"T_1696aa2c_4f24_11e9_b419_9cf387a47032row2_col1\" class=\"data row2 col1\" >0.05</td> \n",
       "        <td id=\"T_1696aa2c_4f24_11e9_b419_9cf387a47032row2_col2\" class=\"data row2 col2\" >1</td> \n",
       "        <td id=\"T_1696aa2c_4f24_11e9_b419_9cf387a47032row2_col3\" class=\"data row2 col3\" >0.59</td> \n",
       "        <td id=\"T_1696aa2c_4f24_11e9_b419_9cf387a47032row2_col4\" class=\"data row2 col4\" >0.27</td> \n",
       "        <td id=\"T_1696aa2c_4f24_11e9_b419_9cf387a47032row2_col5\" class=\"data row2 col5\" >0.08</td> \n",
       "        <td id=\"T_1696aa2c_4f24_11e9_b419_9cf387a47032row2_col6\" class=\"data row2 col6\" >0.09</td> \n",
       "        <td id=\"T_1696aa2c_4f24_11e9_b419_9cf387a47032row2_col7\" class=\"data row2 col7\" >0.3</td> \n",
       "        <td id=\"T_1696aa2c_4f24_11e9_b419_9cf387a47032row2_col8\" class=\"data row2 col8\" >0.37</td> \n",
       "    </tr>    <tr> \n",
       "        <th id=\"T_1696aa2c_4f24_11e9_b419_9cf387a47032level0_row3\" class=\"row_heading level0 row3\" >previous</th> \n",
       "        <td id=\"T_1696aa2c_4f24_11e9_b419_9cf387a47032row3_col0\" class=\"data row3 col0\" >0.02</td> \n",
       "        <td id=\"T_1696aa2c_4f24_11e9_b419_9cf387a47032row3_col1\" class=\"data row3 col1\" >0.08</td> \n",
       "        <td id=\"T_1696aa2c_4f24_11e9_b419_9cf387a47032row3_col2\" class=\"data row3 col2\" >0.59</td> \n",
       "        <td id=\"T_1696aa2c_4f24_11e9_b419_9cf387a47032row3_col3\" class=\"data row3 col3\" >1</td> \n",
       "        <td id=\"T_1696aa2c_4f24_11e9_b419_9cf387a47032row3_col4\" class=\"data row3 col4\" >0.42</td> \n",
       "        <td id=\"T_1696aa2c_4f24_11e9_b419_9cf387a47032row3_col5\" class=\"data row3 col5\" >0.2</td> \n",
       "        <td id=\"T_1696aa2c_4f24_11e9_b419_9cf387a47032row3_col6\" class=\"data row3 col6\" >0.05</td> \n",
       "        <td id=\"T_1696aa2c_4f24_11e9_b419_9cf387a47032row3_col7\" class=\"data row3 col7\" >0.45</td> \n",
       "        <td id=\"T_1696aa2c_4f24_11e9_b419_9cf387a47032row3_col8\" class=\"data row3 col8\" >0.5</td> \n",
       "    </tr>    <tr> \n",
       "        <th id=\"T_1696aa2c_4f24_11e9_b419_9cf387a47032level0_row4\" class=\"row_heading level0 row4\" >emp.var.rate</th> \n",
       "        <td id=\"T_1696aa2c_4f24_11e9_b419_9cf387a47032row4_col0\" class=\"data row4 col0\" >0</td> \n",
       "        <td id=\"T_1696aa2c_4f24_11e9_b419_9cf387a47032row4_col1\" class=\"data row4 col1\" >0.15</td> \n",
       "        <td id=\"T_1696aa2c_4f24_11e9_b419_9cf387a47032row4_col2\" class=\"data row4 col2\" >0.27</td> \n",
       "        <td id=\"T_1696aa2c_4f24_11e9_b419_9cf387a47032row4_col3\" class=\"data row4 col3\" >0.42</td> \n",
       "        <td id=\"T_1696aa2c_4f24_11e9_b419_9cf387a47032row4_col4\" class=\"data row4 col4\" >1</td> \n",
       "        <td id=\"T_1696aa2c_4f24_11e9_b419_9cf387a47032row4_col5\" class=\"data row4 col5\" >0.78</td> \n",
       "        <td id=\"T_1696aa2c_4f24_11e9_b419_9cf387a47032row4_col6\" class=\"data row4 col6\" >0.2</td> \n",
       "        <td id=\"T_1696aa2c_4f24_11e9_b419_9cf387a47032row4_col7\" class=\"data row4 col7\" >0.97</td> \n",
       "        <td id=\"T_1696aa2c_4f24_11e9_b419_9cf387a47032row4_col8\" class=\"data row4 col8\" >0.91</td> \n",
       "    </tr>    <tr> \n",
       "        <th id=\"T_1696aa2c_4f24_11e9_b419_9cf387a47032level0_row5\" class=\"row_heading level0 row5\" >cons.price.idx</th> \n",
       "        <td id=\"T_1696aa2c_4f24_11e9_b419_9cf387a47032row5_col0\" class=\"data row5 col0\" >0</td> \n",
       "        <td id=\"T_1696aa2c_4f24_11e9_b419_9cf387a47032row5_col1\" class=\"data row5 col1\" >0.13</td> \n",
       "        <td id=\"T_1696aa2c_4f24_11e9_b419_9cf387a47032row5_col2\" class=\"data row5 col2\" >0.08</td> \n",
       "        <td id=\"T_1696aa2c_4f24_11e9_b419_9cf387a47032row5_col3\" class=\"data row5 col3\" >0.2</td> \n",
       "        <td id=\"T_1696aa2c_4f24_11e9_b419_9cf387a47032row5_col4\" class=\"data row5 col4\" >0.78</td> \n",
       "        <td id=\"T_1696aa2c_4f24_11e9_b419_9cf387a47032row5_col5\" class=\"data row5 col5\" >1</td> \n",
       "        <td id=\"T_1696aa2c_4f24_11e9_b419_9cf387a47032row5_col6\" class=\"data row5 col6\" >0.06</td> \n",
       "        <td id=\"T_1696aa2c_4f24_11e9_b419_9cf387a47032row5_col7\" class=\"data row5 col7\" >0.69</td> \n",
       "        <td id=\"T_1696aa2c_4f24_11e9_b419_9cf387a47032row5_col8\" class=\"data row5 col8\" >0.52</td> \n",
       "    </tr>    <tr> \n",
       "        <th id=\"T_1696aa2c_4f24_11e9_b419_9cf387a47032level0_row6\" class=\"row_heading level0 row6\" >cons.conf.idx</th> \n",
       "        <td id=\"T_1696aa2c_4f24_11e9_b419_9cf387a47032row6_col0\" class=\"data row6 col0\" >0.13</td> \n",
       "        <td id=\"T_1696aa2c_4f24_11e9_b419_9cf387a47032row6_col1\" class=\"data row6 col1\" >0.01</td> \n",
       "        <td id=\"T_1696aa2c_4f24_11e9_b419_9cf387a47032row6_col2\" class=\"data row6 col2\" >0.09</td> \n",
       "        <td id=\"T_1696aa2c_4f24_11e9_b419_9cf387a47032row6_col3\" class=\"data row6 col3\" >0.05</td> \n",
       "        <td id=\"T_1696aa2c_4f24_11e9_b419_9cf387a47032row6_col4\" class=\"data row6 col4\" >0.2</td> \n",
       "        <td id=\"T_1696aa2c_4f24_11e9_b419_9cf387a47032row6_col5\" class=\"data row6 col5\" >0.06</td> \n",
       "        <td id=\"T_1696aa2c_4f24_11e9_b419_9cf387a47032row6_col6\" class=\"data row6 col6\" >1</td> \n",
       "        <td id=\"T_1696aa2c_4f24_11e9_b419_9cf387a47032row6_col7\" class=\"data row6 col7\" >0.28</td> \n",
       "        <td id=\"T_1696aa2c_4f24_11e9_b419_9cf387a47032row6_col8\" class=\"data row6 col8\" >0.1</td> \n",
       "    </tr>    <tr> \n",
       "        <th id=\"T_1696aa2c_4f24_11e9_b419_9cf387a47032level0_row7\" class=\"row_heading level0 row7\" >euribor3m</th> \n",
       "        <td id=\"T_1696aa2c_4f24_11e9_b419_9cf387a47032row7_col0\" class=\"data row7 col0\" >0.01</td> \n",
       "        <td id=\"T_1696aa2c_4f24_11e9_b419_9cf387a47032row7_col1\" class=\"data row7 col1\" >0.14</td> \n",
       "        <td id=\"T_1696aa2c_4f24_11e9_b419_9cf387a47032row7_col2\" class=\"data row7 col2\" >0.3</td> \n",
       "        <td id=\"T_1696aa2c_4f24_11e9_b419_9cf387a47032row7_col3\" class=\"data row7 col3\" >0.45</td> \n",
       "        <td id=\"T_1696aa2c_4f24_11e9_b419_9cf387a47032row7_col4\" class=\"data row7 col4\" >0.97</td> \n",
       "        <td id=\"T_1696aa2c_4f24_11e9_b419_9cf387a47032row7_col5\" class=\"data row7 col5\" >0.69</td> \n",
       "        <td id=\"T_1696aa2c_4f24_11e9_b419_9cf387a47032row7_col6\" class=\"data row7 col6\" >0.28</td> \n",
       "        <td id=\"T_1696aa2c_4f24_11e9_b419_9cf387a47032row7_col7\" class=\"data row7 col7\" >1</td> \n",
       "        <td id=\"T_1696aa2c_4f24_11e9_b419_9cf387a47032row7_col8\" class=\"data row7 col8\" >0.95</td> \n",
       "    </tr>    <tr> \n",
       "        <th id=\"T_1696aa2c_4f24_11e9_b419_9cf387a47032level0_row8\" class=\"row_heading level0 row8\" >nr.employed</th> \n",
       "        <td id=\"T_1696aa2c_4f24_11e9_b419_9cf387a47032row8_col0\" class=\"data row8 col0\" >0.02</td> \n",
       "        <td id=\"T_1696aa2c_4f24_11e9_b419_9cf387a47032row8_col1\" class=\"data row8 col1\" >0.14</td> \n",
       "        <td id=\"T_1696aa2c_4f24_11e9_b419_9cf387a47032row8_col2\" class=\"data row8 col2\" >0.37</td> \n",
       "        <td id=\"T_1696aa2c_4f24_11e9_b419_9cf387a47032row8_col3\" class=\"data row8 col3\" >0.5</td> \n",
       "        <td id=\"T_1696aa2c_4f24_11e9_b419_9cf387a47032row8_col4\" class=\"data row8 col4\" >0.91</td> \n",
       "        <td id=\"T_1696aa2c_4f24_11e9_b419_9cf387a47032row8_col5\" class=\"data row8 col5\" >0.52</td> \n",
       "        <td id=\"T_1696aa2c_4f24_11e9_b419_9cf387a47032row8_col6\" class=\"data row8 col6\" >0.1</td> \n",
       "        <td id=\"T_1696aa2c_4f24_11e9_b419_9cf387a47032row8_col7\" class=\"data row8 col7\" >0.95</td> \n",
       "        <td id=\"T_1696aa2c_4f24_11e9_b419_9cf387a47032row8_col8\" class=\"data row8 col8\" >1</td> \n",
       "    </tr></tbody> \n",
       "</table> "
      ],
      "text/plain": [
       "<pandas.io.formats.style.Styler at 0x1a1ae512b0>"
      ]
     },
     "execution_count": 14,
     "metadata": {},
     "output_type": "execute_result"
    }
   ],
   "source": [
    "corr = df.drop('y',axis=1).corr(method='pearson').abs()\n",
    "corr = corr.round(2)\n",
    "corr.style.background_gradient().set_precision(2)"
   ]
  },
  {
   "cell_type": "code",
   "execution_count": null,
   "metadata": {
    "hidden": true
   },
   "outputs": [],
   "source": []
  },
  {
   "cell_type": "code",
   "execution_count": 15,
   "metadata": {
    "code_folding": [],
    "hidden": true
   },
   "outputs": [
    {
     "data": {
      "text/plain": [
       "8.776916617477557"
      ]
     },
     "execution_count": 15,
     "metadata": {},
     "output_type": "execute_result"
    }
   ],
   "source": [
    "la.eigvals(corr.values)[0]/la.eigvals(corr.values)[-1]"
   ]
  },
  {
   "cell_type": "code",
   "execution_count": null,
   "metadata": {
    "hidden": true
   },
   "outputs": [],
   "source": [
    "dropables = find_correlation(df.drop('y',axis=1).corr(),threshold=0.85)\n",
    "\n",
    "for c in df.columns:\n",
    "    if c in dropables:\n",
    "        df.drop(c, axis=1, inplace=True)"
   ]
  },
  {
   "cell_type": "code",
   "execution_count": null,
   "metadata": {
    "hidden": true
   },
   "outputs": [],
   "source": [
    "corr = df.drop('y',axis=1).corr(method='pearson').abs()\n",
    "corr = corr.round(2)\n",
    "\n",
    "la.eigvals(corr.values)[0]/la.eigvals(corr.values)[-1]"
   ]
  },
  {
   "cell_type": "markdown",
   "metadata": {},
   "source": [
    "## Analysis Pipeline "
   ]
  },
  {
   "cell_type": "markdown",
   "metadata": {},
   "source": [
    "\n",
    "* Stratified train-test data split on 80/20%. Where, stratification is to ensure the same good/bad ratio of the events after the each split. That is very important for the highly unbalanced datasets:\n",
    "> * Train-dataset (80%) - use for hyper parameters tuning, with 3 fold cross-validation \n",
    "> * Test-dataset (20%) - make predictions\n",
    "\n",
    "**Machine Learning model selection**\n",
    "\n",
    "Model selection - choise of the algorithm for the data analysis, is strongly defined by the data structure/type, as well as available resources. In our case, the data is the mixture of categorical and numeric features, each possibly with different origine and source. Considering known experience, following Machine Learning models are the most recommended for the given data:\n",
    "\n",
    "* Boosted decision tree (using XGBoost), hyper parameters to tune:\n",
    "> * Learning Rate - level of influence the consecutive learner \n",
    "> * max depth - of each tree\n",
    "> * gamma - \n",
    "> * colsample - \n",
    "\n",
    "* Logistic regression \n",
    "> * todo\n",
    "\n",
    "\n",
    "**Analysis pipeline:**\n",
    "\n",
    "Pipelines are useful - more task standartisation, less trouble to rearrange the code and etc.\n",
    "\n",
    "> * categorical features\n",
    ">> * Decision tree models - apply label encoding, as for trees it is easier to work with the label encoded features (custom transformer implemented)\n",
    ">> * Logistic regression - apply one-hot-encoding\n",
    "> * numerical features - to standartize\n",
    "\n",
    "Using Log Loss function to measure performance of the classifier, during Bayesian Cross Validation search.\n",
    "\n",
    "Final model selection (decision trees vs logistic regression) should reflect the economics importance of the model.\n"
   ]
  },
  {
   "cell_type": "code",
   "execution_count": 16,
   "metadata": {},
   "outputs": [
    {
     "name": "stdout",
     "output_type": "stream",
     "text": [
      "ratio:  7.880021569156106\n"
     ]
    }
   ],
   "source": [
    "X_train, X_test, y_train, y_test = train_test_split(df.drop('y', axis=1), df.y, \n",
    "                                                    stratify=df.y,\n",
    "                                                    test_size=0.20, random_state=42)\n",
    "\n",
    "\n",
    "ratio = (y_train == 0).sum()/y_train.sum()\n",
    "print('ratio: ', ratio)\n",
    "\n",
    "xgb_params = [{\n",
    "    #\n",
    "    'xg__learning_rate':[0.01,0.8],\n",
    "    'xg__max_depth':[3,6],\n",
    "    'xg__gamma':[2,10],\n",
    "    'xg__colsample_bytree':[0.2,1],\n",
    "    'xg__colsample_bylevel':[0.2,1],\n",
    "    'xg__reg_lambda':[0.01,1],\n",
    "    'xg__scale_pos_weight': [ratio] \n",
    "    }]\n",
    "\n",
    "pipe = Pipeline([\n",
    "    ('by_features', FeatureUnion([\n",
    "        ('num_pipeline', Pipeline([\n",
    "            ('num_extractor', num_extractor()), \n",
    "            ('standard', StandardScaler())\n",
    "        ])),\n",
    "        ('cat_pipeline', Pipeline([\n",
    "            ('cat_extractor', cat_extractor()), \n",
    "            ('cat_labeling',  MultiColumnLabelEncoder())\n",
    "        ]))\n",
    "    ])),\n",
    "    ('xg', XGBClassifier()) \n",
    "])"
   ]
  },
  {
   "cell_type": "code",
   "execution_count": 17,
   "metadata": {},
   "outputs": [],
   "source": [
    "grid = BayesSearchCV(pipe, xgb_params, cv=3, verbose=0, scoring='log_loss')\n",
    "\n",
    "with warnings.catch_warnings():\n",
    "    warnings.filterwarnings('ignore')\n",
    "    grid.fit(X_train, y_train) "
   ]
  },
  {
   "cell_type": "code",
   "execution_count": 18,
   "metadata": {
    "scrolled": true
   },
   "outputs": [
    {
     "data": {
      "text/plain": [
       "{'xg__colsample_bylevel': 1.0,\n",
       " 'xg__colsample_bytree': 0.8509322382775026,\n",
       " 'xg__gamma': 2,\n",
       " 'xg__learning_rate': 0.38686981738280624,\n",
       " 'xg__max_depth': 6,\n",
       " 'xg__reg_lambda': 1.0,\n",
       " 'xg__scale_pos_weight': 7.880021569156106}"
      ]
     },
     "execution_count": 18,
     "metadata": {},
     "output_type": "execute_result"
    }
   ],
   "source": [
    "grid.best_params_"
   ]
  },
  {
   "cell_type": "code",
   "execution_count": null,
   "metadata": {},
   "outputs": [],
   "source": []
  },
  {
   "cell_type": "code",
   "execution_count": 19,
   "metadata": {
    "scrolled": true
   },
   "outputs": [
    {
     "name": "stderr",
     "output_type": "stream",
     "text": [
      "No handles with labels found to put in legend.\n"
     ]
    },
    {
     "name": "stdout",
     "output_type": "stream",
     "text": [
      "0.7770782224903223\n",
      "1453\n",
      "1453\n"
     ]
    },
    {
     "data": {
      "image/png": "[encoded data removed]",
      "text/plain": [
       "<Figure size 432x288 with 1 Axes>"
      ]
     },
     "metadata": {},
     "output_type": "display_data"
    }
   ],
   "source": [
    "plot_roc(roc_curve(y_test, grid.predict_proba(X_test)[:,1]))"
   ]
  },
  {
   "cell_type": "markdown",
   "metadata": {},
   "source": [
    "** Confusion Matrix **\n",
    "\n",
    "* True Positive: 448 \n",
    "* True Negative: 479\n",
    "* False Positive: 832\n",
    "* False Negative: 6475"
   ]
  },
  {
   "cell_type": "code",
   "execution_count": 22,
   "metadata": {
    "scrolled": true
   },
   "outputs": [
    {
     "name": "stdout",
     "output_type": "stream",
     "text": [
      "Confusion matrix, without normalization\n"
     ]
    },
    {
     "data": {
      "image/png": "[encoded data removed]",
      "text/plain": [
       "<Figure size 432x288 with 2 Axes>"
      ]
     },
     "metadata": {},
     "output_type": "display_data"
    }
   ],
   "source": [
    "predict_proba = grid.predict_proba(X_test)\n",
    "plot_confusion_matrix(metrics.confusion_matrix(y_test, (predict_proba[:,1]>0.5)*1), \n",
    "                      classes=['no','yes'], title='Confusion matrix')"
   ]
  },
  {
   "cell_type": "markdown",
   "metadata": {},
   "source": [
    "** Economics importance **\n",
    "\n",
    "We need to find optimal threshold on probability, which can maximize the Economics importance for the given costs of campaign. Plot below shows Economics importance (EI) as a function of ptobability threshold (red line), and the base line (BL) or the initial income of the bank (blue line).\n",
    "\n",
    "If the cost of contact is 8 and each contract can generate 80, the EI and BL quantities can be calculated as following:\n",
    "\n",
    "$EI = TP*(80-8) - FP*8$ <br>\n",
    "$BL = (TP+TN)(80-8) - (FN+FP)*8$\n",
    "\n",
    "To be noted: \n",
    "* Its a bit exreame case and easy to optimise with the given prices 80 and 8\n",
    "* Predictive models degradate in time."
   ]
  },
  {
   "cell_type": "code",
   "execution_count": 25,
   "metadata": {
    "scrolled": false
   },
   "outputs": [
    {
     "name": "stdout",
     "output_type": "stream",
     "text": [
      "auc score:  0.7770782224903223\n",
      "32584   8288\n"
     ]
    },
    {
     "data": {
      "image/png": "[encoded data removed]",
      "text/plain": [
       "<Figure size 720x576 with 1 Axes>"
      ]
     },
     "metadata": {},
     "output_type": "display_data"
    }
   ],
   "source": [
    "# predict_proba = grid.predict_proba(X_test)\n",
    "plot_income((predict_proba[:,1]), y_test)"
   ]
  },
  {
   "cell_type": "code",
   "execution_count": null,
   "metadata": {},
   "outputs": [],
   "source": []
  },
  {
   "cell_type": "markdown",
   "metadata": {
    "heading_collapsed": true
   },
   "source": [
    "### Investigate probabilities"
   ]
  },
  {
   "cell_type": "code",
   "execution_count": 27,
   "metadata": {
    "hidden": true
   },
   "outputs": [
    {
     "data": {
      "text/plain": [
       "(array([5557.,  745.,  357.,  203.,  158.,  123.,   81.,   79.,   70.,\n",
       "          89.,   70.,   77.,   80.,   72.,   88.,  102.,  148.,  135.,\n",
       "           0.,    0.]),\n",
       " array([0.  , 0.05, 0.1 , 0.15, 0.2 , 0.25, 0.3 , 0.35, 0.4 , 0.45, 0.5 ,\n",
       "        0.55, 0.6 , 0.65, 0.7 , 0.75, 0.8 , 0.85, 0.9 , 0.95, 1.  ]),\n",
       " <a list of 1 Patch objects>)"
      ]
     },
     "execution_count": 27,
     "metadata": {},
     "output_type": "execute_result"
    },
    {
     "data": {
      "image/png": "[encoded data removed]",
      "text/plain": [
       "<Figure size 720x720 with 2 Axes>"
      ]
     },
     "metadata": {},
     "output_type": "display_data"
    }
   ],
   "source": [
    "\n",
    "prob_pos = predict_proba[:,1]\n",
    "\n",
    "\n",
    "calib_grid = CalibratedClassifierCV(base_estimator=\\\n",
    "                                    grid.best_estimator_.named_steps['xg'],\n",
    "                                    method='sigmoid',\n",
    "#                                     method='isotonic',\n",
    "                                    cv='prefit')\n",
    "\n",
    "\n",
    "imputer = grid.best_estimator_.named_steps['by_features']\n",
    "calib_grid.fit(imputer.fit_transform(X_train), y_train)\n",
    "\n",
    "prob_pos_calib = calib_grid.predict_proba(imputer.fit_transform(X_test))[:,1]\n",
    "\n",
    "\n",
    "plt.figure(figsize=(10, 10))\n",
    "ax1 = plt.subplot2grid((3, 1), (0, 0), rowspan=2)\n",
    "ax2 = plt.subplot2grid((3, 1), (2, 0))\n",
    "\n",
    "ax1.plot([0, 1], [0, 1], \"k:\", label=\"Perfectly calibrated\")\n",
    "\n",
    "fraction_of_positives, mean_predicted_value = \\\n",
    "        calibration_curve(y_test, prob_pos, n_bins=20)\n",
    "\n",
    "fraction_of_positives_calib, mean_predicted_value_calib = \\\n",
    "        calibration_curve(y_test, prob_pos_calib, n_bins=20)\n",
    "\n",
    "ax1.plot(mean_predicted_value, fraction_of_positives, 'bo', label='y')\n",
    "ax1.plot(mean_predicted_value_calib, fraction_of_positives_calib, 'b+', label='y')\n",
    "\n",
    "ax2.hist(prob_pos, range=(0, 1), bins=20, label='name', histtype=\"step\", lw=2)\n",
    "ax2.hist(prob_pos_calib, range=(0, 1), bins=20, label='name', histtype=\"step\", lw=2)"
   ]
  },
  {
   "cell_type": "code",
   "execution_count": null,
   "metadata": {
    "hidden": true
   },
   "outputs": [],
   "source": []
  },
  {
   "cell_type": "code",
   "execution_count": 29,
   "metadata": {
    "hidden": true,
    "scrolled": true
   },
   "outputs": [
    {
     "data": {
      "image/png": "[encoded data removed]",
      "text/plain": [
       "<Figure size 432x288 with 1 Axes>"
      ]
     },
     "metadata": {},
     "output_type": "display_data"
    }
   ],
   "source": [
    "dd = [sum(prob_pos < (0.01*i))/len(prob_pos) \n",
    "      for i in range(0,101)]\n",
    "\n",
    "plt.plot([i/100 for i in range(0,101)], dd, 'bo') \n",
    "plt.show()\n",
    "# plt.hist(dd)\n",
    "# plt.show()"
   ]
  },
  {
   "cell_type": "code",
   "execution_count": null,
   "metadata": {
    "hidden": true
   },
   "outputs": [],
   "source": [
    "dd = [sum(prob_pos_calib < (0.01*i))/len(prob_pos_calib) \n",
    "      for i in range(0,101)]\n",
    "\n",
    "plt.plot([i/100 for i in range(0,101)], dd, 'bo') \n",
    "plt.show()"
   ]
  },
  {
   "cell_type": "code",
   "execution_count": null,
   "metadata": {
    "hidden": true
   },
   "outputs": [],
   "source": [
    "# clf_isotonic = CalibratedClassifierCV(clf, cv=2, method='isotonic')\n",
    "X_train"
   ]
  },
  {
   "cell_type": "code",
   "execution_count": null,
   "metadata": {
    "hidden": true
   },
   "outputs": [],
   "source": []
  },
  {
   "cell_type": "code",
   "execution_count": null,
   "metadata": {
    "hidden": true
   },
   "outputs": [],
   "source": []
  }
 ],
 "metadata": {
  "kernelspec": {
   "display_name": "Python 3",
   "language": "python",
   "name": "python3"
  },
  "language_info": {
   "codemirror_mode": {
    "name": "ipython",
    "version": 3
   },
   "file_extension": ".py",
   "mimetype": "text/x-python",
   "name": "python",
   "nbconvert_exporter": "python",
   "pygments_lexer": "ipython3",
   "version": "3.6.8"
  }
 },
 "nbformat": 4,
 "nbformat_minor": 2
}
