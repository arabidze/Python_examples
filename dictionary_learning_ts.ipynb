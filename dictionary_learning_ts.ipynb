{
 "cells": [
  {
   "cell_type": "markdown",
   "metadata": {},
   "source": [
    "## Unsipervised learning example using Dictionary Learning "
   ]
  },
  {
   "cell_type": "markdown",
   "metadata": {},
   "source": [
    "Problem description:\n",
    "\n",
    "Suppose you’re given samples of some time series and you want to detect anomaly in those samples, i.e. want to be able to identify which of those samples is ‘abnormal’. One can use scikit-learn Sparse Dictionary Learning algorithm for the anomaly detection in the time series.\n",
    "\n",
    "Idea of the Dictionary Learning:\n",
    "\n",
    "Train the dictionary to learn the sparse representation of the data (sparse coding) in the form of a linear combination of the basic elements - atoms."
   ]
  },
  {
   "cell_type": "markdown",
   "metadata": {},
   "source": [
    "### import libs and define some useful functions"
   ]
  },
  {
   "cell_type": "code",
   "execution_count": 1,
   "metadata": {},
   "outputs": [],
   "source": [
    "import pandas as pd\n",
    "import numpy as np\n",
    "import glob\n",
    "from sklearn.decomposition import DictionaryLearning, SparseCoder\n",
    "from sklearn.utils import shuffle\n",
    "import matplotlib.pyplot as plt\n",
    "plt.rcParams.update({'font.size': 22})"
   ]
  },
  {
   "cell_type": "code",
   "execution_count": 2,
   "metadata": {},
   "outputs": [],
   "source": [
    "from math import sqrt\n",
    "\n",
    "def square_rooted(x):\n",
    "    return round(sqrt(sum([a*a for a in x])),3)\n",
    "\n",
    "def cosine_similarity(x,y):\n",
    "    numerator = sum(a*b for a,b in zip(x,y))\n",
    "    denominator = square_rooted(x)*square_rooted(y)\n",
    "    return round(numerator/float(denominator),3)\n",
    "\n",
    "def euclidean_distance(x,y):\n",
    "    return sqrt(sum(pow(a-b,2) for a, b in zip(x, y)))\n",
    "\n",
    "def manhattan_distance(x,y):\n",
    "    return sum(abs(a-b) for a,b in zip(x,y))\n",
    "\n",
    "def jaccard_similarity(x,y):\n",
    "    intersection_cardinality = len(set.intersection(*[set(x), set(y)]))\n",
    "    union_cardinality = len(set.union(*[set(x), set(y)]))\n",
    "    return intersection_cardinality/float(union_cardinality)"
   ]
  },
  {
   "cell_type": "code",
   "execution_count": null,
   "metadata": {},
   "outputs": [],
   "source": []
  },
  {
   "cell_type": "markdown",
   "metadata": {},
   "source": [
    "### generate dummy data\n",
    "\n",
    "Lets define ‘expected’ time series to be integers, between 0 and 10, and the size of each sample to be 10"
   ]
  },
  {
   "cell_type": "code",
   "execution_count": 3,
   "metadata": {},
   "outputs": [],
   "source": [
    "data_train = np.reshape(np.random.randint(low=0, high=10, size=1000), (-1,10))"
   ]
  },
  {
   "cell_type": "markdown",
   "metadata": {},
   "source": [
    "Train dictionary with 20 atoms, size of atoms: 10"
   ]
  },
  {
   "cell_type": "code",
   "execution_count": 4,
   "metadata": {},
   "outputs": [],
   "source": [
    "dl = DictionaryLearning(n_components=20)\n",
    "model = dl.fit(data_train)"
   ]
  },
  {
   "cell_type": "markdown",
   "metadata": {},
   "source": [
    "Extract the dictionary"
   ]
  },
  {
   "cell_type": "code",
   "execution_count": 5,
   "metadata": {},
   "outputs": [
    {
     "name": "stdout",
     "output_type": "stream",
     "text": [
      "dictionary shape:  (20, 10)\n"
     ]
    }
   ],
   "source": [
    "dictionary = model.components_\n",
    "print('dictionary shape: ', dictionary.shape)"
   ]
  },
  {
   "cell_type": "markdown",
   "metadata": {},
   "source": [
    "OMP - orthogonal matching peruit "
   ]
  },
  {
   "cell_type": "markdown",
   "metadata": {},
   "source": [
    "Lets again regenerate data, but this time lets insert samples with ‘abnormal’ samples of time series, where ‘abnormal’ samples should have different range, between 5 and 15. Our goal should be to detect those abnormal samples."
   ]
  },
  {
   "cell_type": "code",
   "execution_count": 6,
   "metadata": {},
   "outputs": [],
   "source": [
    "data_test = np.reshape(np.random.randint(low=0, high=10, size=20000), (-1,10))\n",
    "data_test[15] = np.random.randint(low=10, high=15, size=10)"
   ]
  },
  {
   "cell_type": "code",
   "execution_count": 7,
   "metadata": {},
   "outputs": [],
   "source": [
    "encoded_data_test = model.transform(data_test)"
   ]
  },
  {
   "cell_type": "code",
   "execution_count": 8,
   "metadata": {},
   "outputs": [
    {
     "data": {
      "text/plain": [
       "array([[ 7,  6,  3,  4,  8,  1,  4,  3,  5,  1],\n",
       "       [ 9,  3,  4,  5,  3,  5,  1,  0,  0,  4],\n",
       "       [ 7,  0,  1,  5,  2,  7,  6,  7,  3,  5],\n",
       "       [ 6,  5,  2,  0,  4,  0,  8,  5,  6,  6],\n",
       "       [ 4,  4,  8,  2,  1,  5,  8,  3,  9,  5],\n",
       "       [ 6,  7,  4,  2,  6,  2,  0,  2,  5,  7],\n",
       "       [ 9,  6,  0,  5,  0,  5,  0,  0,  0,  5],\n",
       "       [ 1,  6,  2,  9,  8,  6,  7,  1,  4,  5],\n",
       "       [ 5,  1,  5,  4,  4,  7,  7,  0,  9,  1],\n",
       "       [ 9,  3,  0,  2,  1,  0,  7,  3,  5,  1],\n",
       "       [ 0,  8,  2,  0,  0,  7,  5,  5,  6,  0],\n",
       "       [ 0,  0,  5,  2,  5,  4,  4,  8,  1,  0],\n",
       "       [ 9,  5,  5,  8,  0,  6,  4,  9,  0,  1],\n",
       "       [ 0,  4,  7,  7,  0,  9,  2,  2,  4,  3],\n",
       "       [ 7,  0,  5,  5,  4,  4,  4,  0,  0,  9],\n",
       "       [12, 11, 14, 12, 11, 12, 12, 14, 10, 14],\n",
       "       [ 7,  1,  2,  4,  7,  3,  2,  1,  5,  3],\n",
       "       [ 7,  5,  3,  7,  8,  4,  9,  5,  8,  3],\n",
       "       [ 6,  8,  0,  7,  4,  1,  8,  1,  0,  4],\n",
       "       [ 6,  2,  6,  1,  6,  3,  7,  4,  0,  0]])"
      ]
     },
     "execution_count": 8,
     "metadata": {},
     "output_type": "execute_result"
    }
   ],
   "source": [
    "data_test[:20]"
   ]
  },
  {
   "cell_type": "markdown",
   "metadata": {},
   "source": [
    "Next step is to reconstruct data using dictionary"
   ]
  },
  {
   "cell_type": "code",
   "execution_count": 9,
   "metadata": {},
   "outputs": [],
   "source": [
    "encoded_out=[]\n",
    "for i in range(encoded_data_test.shape[0]):\n",
    "    encoded_out.append(np.sum(dictionary.T*encoded_data_test[i], axis=1))"
   ]
  },
  {
   "cell_type": "markdown",
   "metadata": {},
   "source": [
    "Lets compare reconstructed data with the original data using different similarity measurements:"
   ]
  },
  {
   "cell_type": "code",
   "execution_count": 10,
   "metadata": {},
   "outputs": [],
   "source": [
    "cs = [cosine_similarity(encoded_out[i], data_test[i]) \n",
    "          for i in range(0, len(data_test))]\n",
    "ed = [euclidean_distance(encoded_out[i], data_test[i]) \n",
    "          for i in range(0, len(data_test))]\n",
    "md = [manhattan_distance(encoded_out[i], data_test[i]) \n",
    "          for i in range(0, len(data_test))]"
   ]
  },
  {
   "cell_type": "markdown",
   "metadata": {},
   "source": [
    "As one can see from the histograms below, euclidean and manhattan distances give a good indication for detecting abnormal sample (less obvious with the cosine similarity measure)"
   ]
  },
  {
   "cell_type": "code",
   "execution_count": 11,
   "metadata": {
    "scrolled": false
   },
   "outputs": [
    {
     "data": {
      "text/plain": [
       "Text(0,0.5,'# events')"
      ]
     },
     "execution_count": 11,
     "metadata": {},
     "output_type": "execute_result"
    },
    {
     "data": {
      "image/png": "[encoded data removed]",
      "text/plain": [
       "<Figure size 432x288 with 1 Axes>"
      ]
     },
     "metadata": {},
     "output_type": "display_data"
    }
   ],
   "source": [
    "p1 = plt.hist(ed, bins=20, log=True) \n",
    "p2 = plt.hist(md, bins=20, alpha=0.5, log=True)\n",
    "plt.xlabel('distance', fontsize=20)\n",
    "plt.ylabel('# events', fontsize=20)"
   ]
  },
  {
   "cell_type": "code",
   "execution_count": 12,
   "metadata": {
    "scrolled": true
   },
   "outputs": [
    {
     "data": {
      "image/png": "[encoded data removed]",
      "text/plain": [
       "<Figure size 432x288 with 1 Axes>"
      ]
     },
     "metadata": {},
     "output_type": "display_data"
    }
   ],
   "source": [
    "plt.show(plt.hist(cs, bins=20))"
   ]
  },
  {
   "cell_type": "markdown",
   "metadata": {},
   "source": [
    "Investigating dictionary, work in progress.."
   ]
  },
  {
   "cell_type": "code",
   "execution_count": 13,
   "metadata": {},
   "outputs": [],
   "source": [
    "d_atoms = []\n",
    "for i in range(0, len(dictionary)):\n",
    "    for j in range(i+1, len(dictionary)):\n",
    "        d_atoms.append(manhattan_distance(dictionary[i], dictionary[j]))"
   ]
  },
  {
   "cell_type": "code",
   "execution_count": 14,
   "metadata": {},
   "outputs": [
    {
     "data": {
      "image/png": "[encoded data removed]",
      "text/plain": [
       "<Figure size 432x288 with 1 Axes>"
      ]
     },
     "metadata": {},
     "output_type": "display_data"
    }
   ],
   "source": [
    "plt.show(plt.hist(d_atoms, bins=30))"
   ]
  },
  {
   "cell_type": "code",
   "execution_count": null,
   "metadata": {},
   "outputs": [],
   "source": []
  }
 ],
 "metadata": {
  "kernelspec": {
   "display_name": "Python 3",
   "language": "python",
   "name": "python3"
  },
  "language_info": {
   "codemirror_mode": {
    "name": "ipython",
    "version": 3
   },
   "file_extension": ".py",
   "mimetype": "text/x-python",
   "name": "python",
   "nbconvert_exporter": "python",
   "pygments_lexer": "ipython3",
   "version": "3.6.8"
  }
 },
 "nbformat": 4,
 "nbformat_minor": 2
}
